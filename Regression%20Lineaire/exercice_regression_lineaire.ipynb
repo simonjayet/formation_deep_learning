{
  "nbformat": 4,
  "nbformat_minor": 0,
  "metadata": {
    "colab": {
      "name": "exercice regression lineaire.ipynb",
      "provenance": [],
      "authorship_tag": "ABX9TyPXt3aBg69bM3rmt0btHu8U",
      "include_colab_link": true
    },
    "kernelspec": {
      "name": "python3",
      "display_name": "Python 3"
    },
    "language_info": {
      "name": "python"
    }
  },
  "cells": [
    {
      "cell_type": "markdown",
      "metadata": {
        "id": "view-in-github",
        "colab_type": "text"
      },
      "source": [
        "<a href=\"https://colab.research.google.com/github/simonjayet/formation_deep_learning/blob/master/Regression%2520Lineaire/exercice_regression_lineaire.ipynb\" target=\"_parent\"><img src=\"https://colab.research.google.com/assets/colab-badge.svg\" alt=\"Open In Colab\"/></a>"
      ]
    },
    {
      "cell_type": "code",
      "execution_count": 1,
      "metadata": {
        "id": "rqHjlnB1S-JN"
      },
      "outputs": [],
      "source": [
        "import math\n",
        "import numpy as np\n",
        "from matplotlib import pyplot as plt\n",
        "import pandas as pd"
      ]
    },
    {
      "cell_type": "code",
      "source": [
        "# Importation des données à l'aide de pandas\n",
        "url = \"https://raw.githubusercontent.com/AlexandreBourrieau/ML-F1/master/Regression%20Lineaire/Ex1_Datas.csv\"\n",
        "df = pd.read_csv(url,sep=\",\",header=None)\n",
        "# Enregistrement des données dans au format NumPy dans les variables X et Y\n",
        "# X : Taille de la population\n",
        "# Y : Profit effectué\n",
        "X = np.array(df.iloc[0:len(df),0])\n",
        "Y = np.array(df.iloc[0:len(df),1])"
      ],
      "metadata": {
        "id": "ExCUnabvTHTC"
      },
      "execution_count": null,
      "outputs": []
    }
  ]
}