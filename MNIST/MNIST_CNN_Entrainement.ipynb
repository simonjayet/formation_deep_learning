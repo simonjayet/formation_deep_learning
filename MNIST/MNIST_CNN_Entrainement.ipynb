{
  "nbformat": 4,
  "nbformat_minor": 0,
  "metadata": {
    "anaconda-cloud": {},
    "kernelspec": {
      "name": "python3",
      "display_name": "Python 3"
    },
    "language_info": {
      "codemirror_mode": {
        "name": "ipython",
        "version": 3
      },
      "file_extension": ".py",
      "mimetype": "text/x-python",
      "name": "python",
      "nbconvert_exporter": "python",
      "pygments_lexer": "ipython3",
      "version": "3.6.8"
    },
    "colab": {
      "name": "MNIST_CNN_Entrainement.ipynb",
      "provenance": [],
      "collapsed_sections": [],
      "include_colab_link": true
    },
    "accelerator": "GPU",
    "gpuClass": "standard"
  },
  "cells": [
    {
      "cell_type": "markdown",
      "metadata": {
        "id": "view-in-github",
        "colab_type": "text"
      },
      "source": [
        "<a href=\"https://colab.research.google.com/github/simonjayet/formation_deep_learning/blob/master/MNIST/MNIST_CNN_Entrainement.ipynb\" target=\"_parent\"><img src=\"https://colab.research.google.com/assets/colab-badge.svg\" alt=\"Open In Colab\"/></a>"
      ]
    },
    {
      "cell_type": "markdown",
      "metadata": {
        "id": "GN77vsrTjM04"
      },
      "source": [
        "## Réseau neuronal convolutif\n",
        "\n",
        "Les [réseaux de neurones à convolution](https://fr.wikipedia.org/wiki/R%C3%A9seau_neuronal_convolutif) (Convolutional Neural Networks - CNNs) ont de larges applications, en particulier dans la reconnaissance d'image et de vidéo. Leur structure est inspirée par celle du cortex visuel des animaux.\n",
        "\n",
        "Cet exemple nécessite Python 3, Tensorflow 2, matplotlib, et numpy. Entrainer un réseau de neurones à convolution demande davantage de temps de calcul qu'un réseau de base, entièrement connecté. C'est la raison pour laquelle l'entrainement par GPU est préféré."
      ]
    },
    {
      "cell_type": "code",
      "metadata": {
        "id": "mHWfBk3sjM1m"
      },
      "source": [
        "from tensorflow.keras.datasets import mnist\n",
        "from tensorflow.keras.models import Sequential\n",
        "from tensorflow.keras.layers import Dense, Dropout, Flatten\n",
        "from tensorflow.keras.layers import Conv2D, MaxPooling2D\n",
        "from tensorflow.keras import backend as K\n",
        "from tensorflow.keras.optimizers import Adam\n",
        "from matplotlib import pyplot as plt\n",
        "import numpy as np\n",
        "import random"
      ],
      "execution_count": 1,
      "outputs": []
    },
    {
      "cell_type": "markdown",
      "metadata": {
        "id": "wgM5FuvXjM15"
      },
      "source": [
        "Quelques configurations des paramètres et des hyperparamètres."
      ]
    },
    {
      "cell_type": "code",
      "metadata": {
        "id": "L9Nu8uRSjM18"
      },
      "source": [
        "# Dimensions des images d'entrée : 28x28\n",
        "dim_img_lignes, dim_img_colonnes = 28, 28\n",
        "\n",
        "# Nombre d'échantillons d'entrainement par lot. 128 est un nombre raisonable\n",
        "batch_size = 128\n",
        "\n",
        "# Les données contiennent 10 chiffres\n",
        "nbr_classes = 10\n",
        "\n",
        "# Nombre d'itérations à utiliser.\n",
        "iterations = 5\n",
        "\n",
        "# dropout est un hyperparamètre de régularisation. Il permet d'éviter la mémorisation pure et simple des entrées.\n",
        "dropout = 0.5"
      ],
      "execution_count": 2,
      "outputs": []
    },
    {
      "cell_type": "markdown",
      "metadata": {
        "id": "OB_ROKhkjM2H"
      },
      "source": [
        "### Chargement des données\n",
        "\n",
        "Keras possède des fonctions intégrées pour charger la base données MNIST, qui est par défaut structurée avec des données réservées pour l'entrainement et les tests.  \n",
        "* x_entrainement and x_test sont les variables utilisées pour sauvegarder les échantillons d'entrainement et de tests. Les images sont représentées dans une matrice de 28x28 pixels.  \n",
        "* y_entrainement et y_test sont les variables utilisées pour sauvegarder les valeurs attendues (les labels qui correspondent à chaque image manuscrite, c'est-à-dire le chiffre correspondant) d'entrainement et de tests."
      ]
    },
    {
      "cell_type": "code",
      "metadata": {
        "id": "xNZd9SiqlLPo",
        "colab": {
          "base_uri": "https://localhost:8080/"
        },
        "outputId": "7fe2db53-d37f-4218-abdb-e9a7018335f9"
      },
      "source": [
        "(x_entrainement, y_entrainement), (x_test, y_test) = mnist.load_data()\n",
        "\n",
        "# Sauvegarde des échantillons des images de tests dans une variable intermédiaire \n",
        "# pour regarder un peu comment ces données sont structurées\n",
        "orig_test = x_test"
      ],
      "execution_count": 3,
      "outputs": [
        {
          "output_type": "stream",
          "name": "stdout",
          "text": [
            "Downloading data from https://storage.googleapis.com/tensorflow/tf-keras-datasets/mnist.npz\n",
            "11493376/11490434 [==============================] - 0s 0us/step\n",
            "11501568/11490434 [==============================] - 0s 0us/step\n"
          ]
        }
      ]
    },
    {
      "cell_type": "markdown",
      "metadata": {
        "id": "cGUVT3axlc23"
      },
      "source": [
        "La cellule suivante permet de visualiser des images réservées aux tests au hasard afin de se faire une idée de ce à quoi elles ressemblent."
      ]
    },
    {
      "cell_type": "code",
      "metadata": {
        "id": "qEFrHyHVlXtF",
        "colab": {
          "base_uri": "https://localhost:8080/",
          "height": 281
        },
        "outputId": "eb739727-a955-4b9a-9ae9-f8036347bcb8"
      },
      "source": [
        "index = random.randrange(1000)\n",
        "plt.imshow(orig_test[index], cmap='gray')\n",
        "plt.title('Label: %d' % y_test[index])\n",
        "plt.show()"
      ],
      "execution_count": 4,
      "outputs": [
        {
          "output_type": "display_data",
          "data": {
            "text/plain": [
              "<Figure size 432x288 with 1 Axes>"
            ],
            "image/png": "[encoded data removed]"
          },
          "metadata": {
            "needs_background": "light"
          }
        }
      ]
    },
    {
      "cell_type": "code",
      "source": [
        "rows = 2\n",
        "columns = 2\n",
        "\n",
        "fig, axs = plt.subplots(rows, columns)\n",
        "\n",
        "for c in range(columns):\n",
        "  for r in range(rows):\n",
        "    index = random.randrange(1000)\n",
        "    axs[r, c].imshow(orig_test[index], cmap='gray')\n",
        "    axs[r, c].set_title('Label: %d' % y_test[index])\n",
        "    axs[r, c].axes.get_xaxis().set_visible(False)\n",
        "    axs[r, c].axes.get_yaxis().set_visible(False)\n",
        "\n",
        "\n"
      ],
      "metadata": {
        "id": "GVVD81CK2DPG",
        "outputId": "9b41ef84-f7f9-476d-9df0-13ae3fca7fff",
        "colab": {
          "base_uri": "https://localhost:8080/",
          "height": 268
        }
      },
      "execution_count": 5,
      "outputs": [
        {
          "output_type": "display_data",
          "data": {
            "text/plain": [
              "<Figure size 432x288 with 4 Axes>"
            ],
            "image/png": "[encoded data removed]"
          },
          "metadata": {
            "needs_background": "light"
          }
        }
      ]
    },
    {
      "cell_type": "code",
      "source": [
        "y_test[0]"
      ],
      "metadata": {
        "id": "kqEwybDB4arv",
        "outputId": "47a2d2a4-9378-4d8b-a584-4cdd97b7ec31",
        "colab": {
          "base_uri": "https://localhost:8080/"
        }
      },
      "execution_count": 34,
      "outputs": [
        {
          "output_type": "execute_result",
          "data": {
            "text/plain": [
              "7"
            ]
          },
          "metadata": {},
          "execution_count": 34
        }
      ]
    },
    {
      "cell_type": "markdown",
      "metadata": {
        "id": "kOns6ruZlMrD"
      },
      "source": [
        "### Préparation des données\n",
        "\n",
        "Les données sont structurées afin d'être compatibles avec la forme d'entrée attendue par Keras :\n",
        "*  Soit du type : (RGB, X, Y)  \n",
        "*  Soit du type : (X, Y, RGB)  \n",
        "\n",
        "La valeur des pixels sont normalisées entre 0.0 et 1.0."
      ]
    },
    {
      "cell_type": "code",
      "metadata": {
        "id": "AcbM1pEqjM2L",
        "colab": {
          "base_uri": "https://localhost:8080/"
        },
        "outputId": "bf3710ce-f8c1-4f0a-8c4c-2b8eee11bc97"
      },
      "source": [
        "if K.image_data_format() == 'channels_first':\n",
        "    x_entrainement = x_entrainement.reshape(x_entrainement.shape[0], 1, dim_img_lignes, dim_img_colonnes)\n",
        "    x_test = x_test.reshape(x_test.shape[0], 1, dim_img_lignes, dim_img_colonnes)\n",
        "    input_shape = (1, dim_img_lignes, dim_img_colonnes)\n",
        "else:\n",
        "    x_entrainement = x_entrainement.reshape(x_entrainement.shape[0], dim_img_lignes, dim_img_colonnes, 1)\n",
        "    x_test = x_test.reshape(x_test.shape[0], dim_img_lignes, dim_img_colonnes, 1)\n",
        "    input_shape = (dim_img_lignes, dim_img_colonnes, 1)\n",
        "    \n",
        "x_entrainement, x_test = x_entrainement / 255.0, x_test / 255.0\n",
        "\n",
        "print(x_entrainement.shape[0], 'train samples')\n",
        "print(x_test.shape[0], 'test samples')"
      ],
      "execution_count": 6,
      "outputs": [
        {
          "output_type": "stream",
          "name": "stdout",
          "text": [
            "60000 train samples\n",
            "10000 test samples\n"
          ]
        }
      ]
    },
    {
      "cell_type": "code",
      "metadata": {
        "id": "JCmaGB5o76tS",
        "colab": {
          "base_uri": "https://localhost:8080/"
        },
        "outputId": "0c8589ac-fad5-4d3a-e24f-367af6bd6010"
      },
      "source": [
        "#x_entrainement[0]\n",
        "#x_entrainement.shape\n",
        "#x_entrainement.reshape(x_entrainement.shape[0], 1, dim_img_lignes, dim_img_colonnes)\n",
        "#x_entrainement.reshape(x_entrainement.shape[0], 1, dim_img_lignes, dim_img_colonnes).shape\n",
        "input_shape"
      ],
      "execution_count": 40,
      "outputs": [
        {
          "output_type": "execute_result",
          "data": {
            "text/plain": [
              "(28, 28, 1)"
            ]
          },
          "metadata": {},
          "execution_count": 40
        }
      ]
    },
    {
      "cell_type": "markdown",
      "metadata": {
        "id": "hWEsjkQ5jM2v"
      },
      "source": [
        "### Definition du modèle\n",
        "\n",
        "Des modèles avec plus de 100 réseaux de neurones à convolution, des couches de  pooling, padding, et autres couches ont permis d'être entrainés avec succès afin de reconnaitre des objets complexes ainsi que de multiples objets dans une image.\n",
        "\n",
        "La structure du modèle que nous allons utliser est la suivante :  \n",
        "* Deux [couches de convolution 2D](https://keras.io/api/layers/convolution_layers/convolution2d/) avec des fonctions d'activation de type redresseur (ReLU) ;  \n",
        "* Une [couche de pooling max](https://keras.io/api/layers/pooling_layers/max_pooling2d/) suivie d'une couche de régularisation de type [dropout](https://keras.io/api/layers/regularization_layers/dropout/) ;\n",
        "*  Une [couche d'aplatissement](https://keras.io/api/layers/reshaping_layers/flatten/) ;\n",
        "* Une [couche dense](https://keras.io/api/layers/core_layers/dense/) avec une fonction d'activation de type redresseur (ReLU) ;  \n",
        "* Une régularisation de type [dropout](https://keras.io/api/layers/regularization_layers/dropout/) ;\n",
        "* Une [couche dense](https://keras.io/api/layers/core_layers/dense/) avec une fonction d'activation de type Soft-Max. Cette dernière couche réalise la classification de type \"1 parmi n\" (One-hot encoded).  \n",
        "  \n",
        "Avec seulement des quelques couches, ce modèle permet d'attendre une précision de 99 %.  \n",
        "La structure de notre modèle peut être visualisée comme ci-dessous :  \n",
        "![ReseauNeurone](Images/ReseauConvolutionKeras.jpg \"ReseauNeurone\")\n"
      ]
    },
    {
      "cell_type": "code",
      "source": [
        "model = Sequential()\n",
        "model.add(Conv2D(filters=32, kernel_size=(3,3), padding='valid', activation='relu', input_shape=input_shape))\n",
        "model.add(Conv2D(filters=64, kernel_size=(3,3), padding='valid', activation='relu'))\n",
        "model.add(MaxPooling2D(pool_size=(2,2)))\n",
        "model.add(Dropout(rate=0.25))\n",
        "model.add(Flatten())\n",
        "model.add(Dense(units=128, activation='ReLU'))\n",
        "model.add(Dropout(rate=0.5))\n",
        "model.add(Dense(units=nbr_classes, activation='softmax'))\n",
        "\n",
        "model.summary()"
      ],
      "metadata": {
        "id": "7H61it4O6VeH",
        "outputId": "5a7390c0-1c47-48e8-f8e7-3e0ff4a9c08b",
        "colab": {
          "base_uri": "https://localhost:8080/"
        }
      },
      "execution_count": 44,
      "outputs": [
        {
          "output_type": "stream",
          "name": "stdout",
          "text": [
            "Model: \"sequential_3\"\n",
            "_________________________________________________________________\n",
            " Layer (type)                Output Shape              Param #   \n",
            "=================================================================\n",
            " conv2d_4 (Conv2D)           (None, 26, 26, 32)        320       \n",
            "                                                                 \n",
            " conv2d_5 (Conv2D)           (None, 24, 24, 64)        18496     \n",
            "                                                                 \n",
            " max_pooling2d_1 (MaxPooling  (None, 12, 12, 64)       0         \n",
            " 2D)                                                             \n",
            "                                                                 \n",
            " dropout_2 (Dropout)         (None, 12, 12, 64)        0         \n",
            "                                                                 \n",
            " flatten_1 (Flatten)         (None, 9216)              0         \n",
            "                                                                 \n",
            " dense_1 (Dense)             (None, 128)               1179776   \n",
            "                                                                 \n",
            " dropout_3 (Dropout)         (None, 128)               0         \n",
            "                                                                 \n",
            " dense_2 (Dense)             (None, 10)                1290      \n",
            "                                                                 \n",
            "=================================================================\n",
            "Total params: 1,199,882\n",
            "Trainable params: 1,199,882\n",
            "Non-trainable params: 0\n",
            "_________________________________________________________________\n"
          ]
        }
      ]
    },
    {
      "cell_type": "code",
      "metadata": {
        "id": "mF5kDTK3jM2y",
        "colab": {
          "base_uri": "https://localhost:8080/"
        },
        "outputId": "0e71a8b4-216c-42d5-94a8-db160d9603b1"
      },
      "source": [
        "model = Sequential()\n",
        "model.add(Conv2D(32, kernel_size=(3, 3), activation='relu', input_shape=input_shape))\n",
        "model.add(Conv2D(64, (3, 3), activation='relu'))\n",
        "model.add(MaxPooling2D(pool_size=(2, 2)))\n",
        "model.add(Dropout(dropout/2))\n",
        "model.add(Flatten())\n",
        "model.add(Dense(128, activation='relu'))\n",
        "model.add(Dropout(dropout))\n",
        "model.add(Dense(nbr_classes, activation='softmax'))\n",
        "\n",
        "model.summary()"
      ],
      "execution_count": 7,
      "outputs": [
        {
          "output_type": "stream",
          "name": "stdout",
          "text": [
            "Model: \"sequential\"\n",
            "_________________________________________________________________\n",
            " Layer (type)                Output Shape              Param #   \n",
            "=================================================================\n",
            " conv2d (Conv2D)             (None, 26, 26, 32)        320       \n",
            "                                                                 \n",
            " conv2d_1 (Conv2D)           (None, 24, 24, 64)        18496     \n",
            "                                                                 \n",
            " max_pooling2d (MaxPooling2D  (None, 12, 12, 64)       0         \n",
            " )                                                               \n",
            "                                                                 \n",
            " dropout (Dropout)           (None, 12, 12, 64)        0         \n",
            "                                                                 \n",
            " flatten (Flatten)           (None, 9216)              0         \n",
            "                                                                 \n",
            " dense (Dense)               (None, 128)               1179776   \n",
            "                                                                 \n",
            " dropout_1 (Dropout)         (None, 128)               0         \n",
            "                                                                 \n",
            " dense_1 (Dense)             (None, 10)                1290      \n",
            "                                                                 \n",
            "=================================================================\n",
            "Total params: 1,199,882\n",
            "Trainable params: 1,199,882\n",
            "Non-trainable params: 0\n",
            "_________________________________________________________________\n"
          ]
        }
      ]
    },
    {
      "cell_type": "markdown",
      "metadata": {
        "id": "JMHjxcZEjM26"
      },
      "source": [
        "### Entrainement du modèle\n",
        "\n",
        "Le code qui suit passe les données d'entrainement à Keras pour entrainer le modèle. La librairie Matplotlib est utilisée pour afficher la précision des entrainements et des tests, en fonction des itérations.\n",
        "\n",
        "Dans l'idéal, la précision obtenue avec les données de tests et d'entrainements devrait être la même.  \n",
        "* Une faible précision obtenue avec les données d'entrainements signifie que le modèle souffre d'un biais important. Cela peut être dû à un modèle qui n'est pas assez robuste, ou un manque de données d'entrainements, ou un trop petit nombre d'itérations.  \n",
        "* Une grande précision obtenue avec des données d'entrainements mais une faible précision obtenue avec les données de tests signifie que le modèle souffre d'une variance élevée. Le modèle est plus ou moins en train de mémoriser les données et non d'apprendre réellement. Ce problème peut être réglé à l'aide de régularisations."
      ]
    },
    {
      "cell_type": "code",
      "metadata": {
        "id": "hNbcqP__jM29",
        "colab": {
          "base_uri": "https://localhost:8080/",
          "height": 694
        },
        "outputId": "3366b6e0-f6f5-4003-8e87-fef5f7220167"
      },
      "source": [
        "model.compile(loss='sparse_categorical_crossentropy', optimizer=Adam(), metrics=['accuracy'])\n",
        "\n",
        "# Entraine le modèle sur un certain nombre d'itérations\n",
        "historique = model.fit(x_entrainement, y_entrainement, batch_size=batch_size, epochs=10, verbose=1, validation_data=(x_test, y_test))\n",
        "\n",
        "# Evalue la précision du modèle avec les données de tests\n",
        "score = model.evaluate(x_test, y_test, verbose=0)\n",
        "print('Pertes (Test) :', score[0])\n",
        "print('Précision (Test) :', score[1])\n",
        "\n",
        "# Affiche les informations\n",
        "plt.plot(historique.history['accuracy'])\n",
        "plt.plot(historique.history['val_accuracy'])\n",
        "plt.title('Précision du modèle')\n",
        "plt.ylabel('Précision')\n",
        "plt.xlabel('Itérations')\n",
        "plt.legend(['Entrainement', 'Test'], loc='upper left')\n",
        "plt.show()"
      ],
      "execution_count": 9,
      "outputs": [
        {
          "output_type": "stream",
          "name": "stdout",
          "text": [
            "Epoch 1/10\n",
            "469/469 [==============================] - 5s 9ms/step - loss: 0.0438 - accuracy: 0.9868 - val_loss: 0.0367 - val_accuracy: 0.9879\n",
            "Epoch 2/10\n",
            "469/469 [==============================] - 4s 9ms/step - loss: 0.0372 - accuracy: 0.9884 - val_loss: 0.0252 - val_accuracy: 0.9930\n",
            "Epoch 3/10\n",
            "469/469 [==============================] - 4s 9ms/step - loss: 0.0308 - accuracy: 0.9899 - val_loss: 0.0261 - val_accuracy: 0.9922\n",
            "Epoch 4/10\n",
            "469/469 [==============================] - 4s 9ms/step - loss: 0.0291 - accuracy: 0.9908 - val_loss: 0.0260 - val_accuracy: 0.9927\n",
            "Epoch 5/10\n",
            "469/469 [==============================] - 4s 9ms/step - loss: 0.0248 - accuracy: 0.9915 - val_loss: 0.0281 - val_accuracy: 0.9919\n",
            "Epoch 6/10\n",
            "469/469 [==============================] - 4s 9ms/step - loss: 0.0237 - accuracy: 0.9923 - val_loss: 0.0255 - val_accuracy: 0.9922\n",
            "Epoch 7/10\n",
            "469/469 [==============================] - 4s 9ms/step - loss: 0.0213 - accuracy: 0.9933 - val_loss: 0.0250 - val_accuracy: 0.9921\n",
            "Epoch 8/10\n",
            "469/469 [==============================] - 4s 9ms/step - loss: 0.0199 - accuracy: 0.9933 - val_loss: 0.0275 - val_accuracy: 0.9929\n",
            "Epoch 9/10\n",
            "469/469 [==============================] - 4s 9ms/step - loss: 0.0192 - accuracy: 0.9938 - val_loss: 0.0288 - val_accuracy: 0.9918\n",
            "Epoch 10/10\n",
            "469/469 [==============================] - 4s 9ms/step - loss: 0.0186 - accuracy: 0.9939 - val_loss: 0.0281 - val_accuracy: 0.9928\n",
            "[0.028116317465901375, 0.9927999973297119]\n",
            "Pertes (Test) : 0.028116317465901375\n",
            "Précision (Test) : 0.9927999973297119\n"
          ]
        },
        {
          "output_type": "display_data",
          "data": {
            "text/plain": [
              "<Figure size 432x288 with 1 Axes>"
            ],
            "image/png": "[encoded data removed]"
          },
          "metadata": {
            "needs_background": "light"
          }
        }
      ]
    },
    {
      "cell_type": "markdown",
      "metadata": {
        "id": "YmGm6OSVjM3G"
      },
      "source": [
        "### Prédictions\n",
        "\n",
        "Réalisons maintenant quelques prédictions en utilisant le modèle entrainé précédent.\n"
      ]
    },
    {
      "cell_type": "code",
      "metadata": {
        "id": "Q42ckWf6jM3K"
      },
      "source": [
        "predictions = model.predict(x_test)\n",
        "plus_probable = predictions.argmax(1)"
      ],
      "execution_count": 10,
      "outputs": []
    },
    {
      "cell_type": "code",
      "source": [
        "predictions"
      ],
      "metadata": {
        "id": "m0-PkUz2C7Sv",
        "outputId": "a8ec0585-3817-47fe-cd05-3de747019291",
        "colab": {
          "base_uri": "https://localhost:8080/"
        }
      },
      "execution_count": 11,
      "outputs": [
        {
          "output_type": "execute_result",
          "data": {
            "text/plain": [
              "array([[4.7066225e-20, 1.0472527e-13, 2.9169349e-12, ..., 1.0000000e+00,\n",
              "        2.6253963e-17, 8.3273400e-13],\n",
              "       [1.4033562e-16, 3.9680283e-11, 1.0000000e+00, ..., 1.0243126e-14,\n",
              "        2.9384288e-19, 3.8381248e-19],\n",
              "       [4.4340235e-15, 1.0000000e+00, 2.0956875e-11, ..., 4.3492762e-10,\n",
              "        7.4185493e-13, 1.7088744e-12],\n",
              "       ...,\n",
              "       [1.1455399e-22, 6.4932169e-15, 1.8480709e-17, ..., 5.1908494e-13,\n",
              "        6.9649558e-15, 2.3918992e-11],\n",
              "       [2.5391841e-15, 3.0192444e-16, 6.0755059e-20, ..., 8.6441036e-19,\n",
              "        8.2756357e-11, 1.1670025e-14],\n",
              "       [2.1403977e-12, 2.6497239e-14, 4.9188503e-15, ..., 1.7037073e-22,\n",
              "        1.4303291e-11, 3.1436641e-16]], dtype=float32)"
            ]
          },
          "metadata": {},
          "execution_count": 11
        }
      ]
    },
    {
      "cell_type": "code",
      "metadata": {
        "id": "PpQfEOHrfTC9",
        "colab": {
          "base_uri": "https://localhost:8080/"
        },
        "outputId": "b9520df3-f543-4f48-972d-336c64717cf2"
      },
      "source": [
        "plus_probable"
      ],
      "execution_count": 12,
      "outputs": [
        {
          "output_type": "execute_result",
          "data": {
            "text/plain": [
              "array([7, 2, 1, ..., 4, 5, 6])"
            ]
          },
          "metadata": {},
          "execution_count": 12
        }
      ]
    },
    {
      "cell_type": "code",
      "source": [
        "predictions[0]"
      ],
      "metadata": {
        "id": "rekZEmi1Dd0j",
        "outputId": "73877083-cc4d-4b2c-cb9e-99cf8acdfca0",
        "colab": {
          "base_uri": "https://localhost:8080/"
        }
      },
      "execution_count": 13,
      "outputs": [
        {
          "output_type": "execute_result",
          "data": {
            "text/plain": [
              "array([4.7066225e-20, 1.0472527e-13, 2.9169349e-12, 7.0514471e-13,\n",
              "       3.3749374e-16, 1.5318124e-17, 3.1145534e-22, 1.0000000e+00,\n",
              "       2.6253963e-17, 8.3273400e-13], dtype=float32)"
            ]
          },
          "metadata": {},
          "execution_count": 13
        }
      ]
    },
    {
      "cell_type": "markdown",
      "metadata": {
        "id": "oFh7qmw-jM3S"
      },
      "source": [
        "La cellule suivante choisit une image au hasard parmi les images de tests, affiche l'image ainsi que les valeurs prédites et attendues (label)."
      ]
    },
    {
      "cell_type": "code",
      "metadata": {
        "id": "Hmx7E54jjM3V",
        "colab": {
          "base_uri": "https://localhost:8080/",
          "height": 281
        },
        "outputId": "092b514a-bed0-41f2-bce6-469aa5c978f6"
      },
      "source": [
        "index = random.randrange(10000)\n",
        "plt.title('Prédiction: %d, label: %d' % (plus_probable[index], y_test[index]))\n",
        "plt.imshow(orig_test[index], cmap='gray')\n",
        "plt.show()"
      ],
      "execution_count": 28,
      "outputs": [
        {
          "output_type": "display_data",
          "data": {
            "text/plain": [
              "<Figure size 432x288 with 1 Axes>"
            ],
            "image/png": "[encoded data removed]"
          },
          "metadata": {
            "needs_background": "light"
          }
        }
      ]
    },
    {
      "cell_type": "markdown",
      "metadata": {
        "id": "J9wOZZiXjM3b"
      },
      "source": [
        "### Analyse des erreurs\n",
        "\n",
        "Cette dernière cellule recherche les prédictions du modèle qui n'ont pas fonctionnées. Dans certains cas, même un humain ne pourrait trouver la bonne réponse !"
      ]
    },
    {
      "cell_type": "code",
      "metadata": {
        "id": "HoOvG05sjM3d",
        "colab": {
          "base_uri": "https://localhost:8080/",
          "height": 545
        },
        "outputId": "373c8fb9-76cc-40c8-d342-d510de23cc19"
      },
      "source": [
        "for i in range(10000):\n",
        "    index = random.randrange(10000)\n",
        "    if plus_probable[index] != y_test[index]:\n",
        "        \n",
        "        break\n",
        "\n",
        "plt.imshow(orig_test[index], cmap='gray')\n",
        "plt.title('Prédiction: %d, label: %d' % (plus_probable[index], y_test[index]))\n",
        "plt.show()\n",
        "\n",
        "plt.bar(range(10), predictions[index], tick_label=range(10))\n",
        "plt.title('Valeur prédite')\n",
        "plt.show()"
      ],
      "execution_count": 31,
      "outputs": [
        {
          "output_type": "display_data",
          "data": {
            "text/plain": [
              "<Figure size 432x288 with 1 Axes>"
            ],
            "image/png": "[encoded data removed]"
          },
          "metadata": {
            "needs_background": "light"
          }
        },
        {
          "output_type": "display_data",
          "data": {
            "text/plain": [
              "<Figure size 432x288 with 1 Axes>"
            ],
            "image/png": "[encoded data removed]"
          },
          "metadata": {
            "needs_background": "light"
          }
        }
      ]
    }
  ]
}